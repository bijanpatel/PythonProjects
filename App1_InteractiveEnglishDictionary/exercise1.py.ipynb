{
 "cells": [
  {
   "cell_type": "code",
   "execution_count": 28,
   "metadata": {},
   "outputs": [],
   "source": [
    "import mysql.connector"
   ]
  },
  {
   "cell_type": "code",
   "execution_count": 29,
   "metadata": {},
   "outputs": [],
   "source": [
    "conn = mysql.connector.connect(\n",
    "user = \"ardit700_student\",\n",
    "password = \"ardit700_student\",\n",
    "host = \"108.167.140.122\",\n",
    "database = \"ardit700_pm1database\"\n",
    ")\n",
    "\n",
    "cursor = conn.cursor()"
   ]
  },
  {
   "cell_type": "code",
   "execution_count": 30,
   "metadata": {},
   "outputs": [
    {
     "name": "stdout",
     "output_type": "stream",
     "text": [
      "Enter the word ?rain\n"
     ]
    }
   ],
   "source": [
    "word = input(\"Enter the word ?\")\n",
    "query = cursor.execute(\"SELECT * FROM Dictionary where Expression = '{}'\".format(word))"
   ]
  },
  {
   "cell_type": "code",
   "execution_count": 31,
   "metadata": {},
   "outputs": [
    {
     "name": "stdout",
     "output_type": "stream",
     "text": [
      "Precipitation in the form of liquid water drops with diameters greater than 0.5 millimetres.\n",
      "To fall from the clouds in drops of water.\n"
     ]
    }
   ],
   "source": [
    "results = cursor.fetchall()\n",
    "if results:\n",
    "    for result in results:\n",
    "        print(result[1])\n",
    "else:\n",
    "    print(\"Word not found\")"
   ]
  },
  {
   "cell_type": "code",
   "execution_count": null,
   "metadata": {},
   "outputs": [],
   "source": []
  }
 ],
 "metadata": {
  "kernelspec": {
   "display_name": "Python 3",
   "language": "python",
   "name": "python3"
  },
  "language_info": {
   "codemirror_mode": {
    "name": "ipython",
    "version": 3
   },
   "file_extension": ".py",
   "mimetype": "text/x-python",
   "name": "python",
   "nbconvert_exporter": "python",
   "pygments_lexer": "ipython3",
   "version": "3.7.4"
  }
 },
 "nbformat": 4,
 "nbformat_minor": 2
}
